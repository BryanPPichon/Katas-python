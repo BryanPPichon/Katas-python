{
 "cells": [
  {
   "cell_type": "markdown",
   "metadata": {},
   "source": [
    "# Ejercicio: Crear un paquete \n",
    "\n",
    "Primero creo mi entorno virtual en una carpeta utlilizando la consola:"
   ]
  },
  {
   "cell_type": "code",
   "execution_count": null,
   "metadata": {},
   "outputs": [],
   "source": [
    "C:\\Users\\bryan>cd C:\\Users\\bryan\\Desktop\\Launch X\n",
    "\n",
    "C:\\Users\\bryan\\Desktop\\Launch X>python -m venv env"
   ]
  },
  {
   "cell_type": "markdown",
   "metadata": {},
   "source": [
    "Ahora lo activamos e instalamos una biblioteca:"
   ]
  },
  {
   "cell_type": "code",
   "execution_count": null,
   "metadata": {},
   "outputs": [],
   "source": [
    "C:\\Users\\bryan\\Desktop\\Launch X>env\\Scripts\\activate\n",
    "\n",
    "(env) C:\\Users\\bryan\\Desktop\\Launch X>pip install python-dateutil"
   ]
  },
  {
   "cell_type": "markdown",
   "metadata": {},
   "source": [
    "Checamos que se haya instalado la biblioteca: "
   ]
  },
  {
   "cell_type": "code",
   "execution_count": null,
   "metadata": {},
   "outputs": [],
   "source": [
    "(env) C:\\Users\\bryan\\Desktop\\Launch X>pip freeze"
   ]
  },
  {
   "cell_type": "markdown",
   "metadata": {},
   "source": [
    "Ya configurado el entorno virtual, podemos salirnos de el:"
   ]
  },
  {
   "cell_type": "code",
   "execution_count": null,
   "metadata": {},
   "outputs": [],
   "source": [
    "(env) C:\\Users\\bryan\\Desktop\\Launch X>deactivate"
   ]
  }
 ],
 "metadata": {
  "language_info": {
   "name": "python"
  },
  "orig_nbformat": 4
 },
 "nbformat": 4,
 "nbformat_minor": 2
}
